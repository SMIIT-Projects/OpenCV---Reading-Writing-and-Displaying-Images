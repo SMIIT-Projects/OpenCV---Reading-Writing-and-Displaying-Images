{
 "cells": [
  {
   "cell_type": "markdown",
   "metadata": {},
   "source": [
    "## Reading, writing and displaying images with OpenCV"
   ]
  },
  {
   "cell_type": "code",
   "execution_count": 1,
   "metadata": {},
   "outputs": [],
   "source": [
    "# pip install opencv-python"
   ]
  },
  {
   "cell_type": "code",
   "execution_count": 2,
   "metadata": {},
   "outputs": [],
   "source": [
    "#Import cv2 library after install opencv-python \n",
    "import cv2\n",
    "import numpy as np\n",
    "import os\n",
    "os.chdir('E:\\\\prasad\\\\SMIIT\\\\Opencv') # for change Directory"
   ]
  },
  {
   "cell_type": "code",
   "execution_count": 3,
   "metadata": {},
   "outputs": [],
   "source": [
    "# Read the given image\n",
    "img=cv2.imread('22.jpg')\n",
    "\n",
    "# Show image\n",
    "cv2.imshow('Girl',img)\n",
    "\n",
    "#wait to close window\n",
    "cv2.waitKey(0)\n",
    "\n",
    "#close all windows\n",
    "cv2.destroyAllWindows()"
   ]
  },
  {
   "cell_type": "markdown",
   "metadata": {},
   "source": [
    "## Let's take a closer look at how images are stored"
   ]
  },
  {
   "cell_type": "code",
   "execution_count": 4,
   "metadata": {},
   "outputs": [
    {
     "name": "stdout",
     "output_type": "stream",
     "text": [
      "(704, 564, 3)\n"
     ]
    }
   ],
   "source": [
    "# Check Shape of Image\n",
    "# first value is basically Height-704, second value is width-564 and third value is channels-3. \n",
    "# 3-means COLOR image RGB.\n",
    "# If image is black and white that time showing only 1 channels \n",
    "print(img.shape)"
   ]
  },
  {
   "cell_type": "code",
   "execution_count": 5,
   "metadata": {},
   "outputs": [
    {
     "name": "stdout",
     "output_type": "stream",
     "text": [
      "Height of the image:  704 pixels\n"
     ]
    }
   ],
   "source": [
    "# Let's print each dimension of the image\n",
    "print('Height of the image: ',img.shape[0],'pixels')  #Check Shape of Image index[0]"
   ]
  },
  {
   "cell_type": "code",
   "execution_count": 6,
   "metadata": {},
   "outputs": [
    {
     "name": "stdout",
     "output_type": "stream",
     "text": [
      "Width of the image:  564 pixels\n"
     ]
    }
   ],
   "source": [
    "img.shape[1]  #Check Shape of Image index[1]\n",
    "print('Width of the image: ',img.shape[1],'pixels')  #Check Shape of Image index[1]"
   ]
  },
  {
   "cell_type": "code",
   "execution_count": 7,
   "metadata": {},
   "outputs": [
    {
     "data": {
      "text/plain": [
       "3"
      ]
     },
     "execution_count": 7,
     "metadata": {},
     "output_type": "execute_result"
    }
   ],
   "source": [
    "img.shape[2]   #Check channel of Image index[2]"
   ]
  },
  {
   "cell_type": "code",
   "execution_count": 8,
   "metadata": {},
   "outputs": [
    {
     "data": {
      "text/plain": [
       "True"
      ]
     },
     "execution_count": 8,
     "metadata": {},
     "output_type": "execute_result"
    }
   ],
   "source": [
    "# Simply use 'imwrite' specificing the file name and the image to be saved\n",
    "cv2.imwrite('output.jpg',img)  # Save image in current location"
   ]
  },
  {
   "cell_type": "markdown",
   "metadata": {},
   "source": [
    "## Resize Image"
   ]
  },
  {
   "cell_type": "code",
   "execution_count": 9,
   "metadata": {},
   "outputs": [],
   "source": [
    "# Read the given image\n",
    "img=cv2.imread('27.jpg')"
   ]
  },
  {
   "cell_type": "code",
   "execution_count": 10,
   "metadata": {},
   "outputs": [],
   "source": [
    "# Resize Image\n",
    "img=cv2.resize(img,(1080,720))\n",
    "\n",
    "#show Image\n",
    "cv2.imshow('Car',img)\n",
    "\n",
    "#wait to close window\n",
    "cv2.waitKey(0)\n",
    "\n",
    "#close all windows\n",
    "cv2.destroyAllWindows()"
   ]
  },
  {
   "cell_type": "markdown",
   "metadata": {},
   "source": [
    "## Image Frame"
   ]
  },
  {
   "cell_type": "code",
   "execution_count": 11,
   "metadata": {},
   "outputs": [],
   "source": [
    "# Read the given image\n",
    "img=cv2.imread('24.jpg')"
   ]
  },
  {
   "cell_type": "code",
   "execution_count": 12,
   "metadata": {},
   "outputs": [],
   "source": [
    "# Resize Image\n",
    "img=cv2.resize(img,(200,200))\n",
    "\n",
    "# Adding images horizontaly and Verticaly\n",
    "img2=np.hstack((img,img,img,img,)) # Same image add 4 times horizontaly\n",
    "\n",
    "img4=np.vstack((img2,img2,img2)) # horizontaly image add 2 times verticaly\n",
    "\n",
    "cv2.imshow('Cute_Girl',img4) # Show images\n",
    "\n",
    "cv2.waitKey(0) #wait to close window\n",
    "\n",
    "cv2.destroyAllWindows() #close all windows"
   ]
  },
  {
   "cell_type": "code",
   "execution_count": null,
   "metadata": {},
   "outputs": [],
   "source": []
  }
 ],
 "metadata": {
  "kernelspec": {
   "display_name": "Python 3",
   "language": "python",
   "name": "python3"
  },
  "language_info": {
   "codemirror_mode": {
    "name": "ipython",
    "version": 3
   },
   "file_extension": ".py",
   "mimetype": "text/x-python",
   "name": "python",
   "nbconvert_exporter": "python",
   "pygments_lexer": "ipython3",
   "version": "3.8.5"
  }
 },
 "nbformat": 4,
 "nbformat_minor": 4
}
