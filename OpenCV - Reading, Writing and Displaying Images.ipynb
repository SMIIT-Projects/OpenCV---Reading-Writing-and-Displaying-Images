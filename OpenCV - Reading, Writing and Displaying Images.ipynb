{
 "cells": [
  {
   "cell_type": "markdown",
   "metadata": {},
   "source": [
    "### Reading an image using cv2.imread() with flag cv2.IMREAD_COLOR"
   ]
  },
  {
   "cell_type": "code",
   "execution_count": 1,
   "metadata": {},
   "outputs": [],
   "source": [
    "# pip install opencv-python"
   ]
  },
  {
   "cell_type": "code",
   "execution_count": 2,
   "metadata": {},
   "outputs": [],
   "source": [
    "#Import cv2 library after install opencv-python \n",
    "import cv2\n",
    "import numpy as np\n",
    "import os\n",
    "os.chdir('E:\\\\prasad\\\\SMIIT\\\\Opencv\\\\OpenCV-Reading-Writing-and-Displaying-Images') # for change Directory"
   ]
  },
  {
   "cell_type": "code",
   "execution_count": 3,
   "metadata": {},
   "outputs": [],
   "source": [
    "# Read the given image\n",
    "img=cv2.imread('22.jpg',cv2.IMREAD_COLOR)\n",
    "# OR\n",
    "# img=cv2.imread('22.jpg',1)"
   ]
  },
  {
   "cell_type": "code",
   "execution_count": 4,
   "metadata": {},
   "outputs": [
    {
     "data": {
      "text/plain": [
       "(704, 564, 3)"
      ]
     },
     "execution_count": 4,
     "metadata": {},
     "output_type": "execute_result"
    }
   ],
   "source": [
    "img.shape"
   ]
  },
  {
   "cell_type": "code",
   "execution_count": 5,
   "metadata": {},
   "outputs": [
    {
     "name": "stdout",
     "output_type": "stream",
     "text": [
      "[[[ 95 139 203]\n",
      "  [119 163 227]\n",
      "  [105 148 211]\n",
      "  ...\n",
      "  [ 86  94 123]\n",
      "  [ 87  95 124]\n",
      "  [ 86  94 123]]\n",
      "\n",
      " [[ 89 133 197]\n",
      "  [121 165 229]\n",
      "  [109 152 215]\n",
      "  ...\n",
      "  [ 86  94 123]\n",
      "  [ 88  96 125]\n",
      "  [ 87  95 124]]\n",
      "\n",
      " [[ 84 128 192]\n",
      "  [122 166 230]\n",
      "  [108 151 214]\n",
      "  ...\n",
      "  [ 87  96 123]\n",
      "  [ 88  97 124]\n",
      "  [ 88  97 124]]\n",
      "\n",
      " ...\n",
      "\n",
      " [[121 164 207]\n",
      "  [124 166 209]\n",
      "  [117 153 199]\n",
      "  ...\n",
      "  [ 62  78  60]\n",
      "  [ 63  79  61]\n",
      "  [ 64  80  62]]\n",
      "\n",
      " [[125 168 211]\n",
      "  [118 160 203]\n",
      "  [115 151 197]\n",
      "  ...\n",
      "  [ 65  81  63]\n",
      "  [ 66  82  64]\n",
      "  [ 67  83  65]]\n",
      "\n",
      " [[131 174 217]\n",
      "  [109 151 194]\n",
      "  [101 137 183]\n",
      "  ...\n",
      "  [ 67  83  65]\n",
      "  [ 68  84  66]\n",
      "  [ 69  85  67]]]\n"
     ]
    }
   ],
   "source": [
    "print(img)"
   ]
  },
  {
   "cell_type": "code",
   "execution_count": 6,
   "metadata": {},
   "outputs": [
    {
     "data": {
      "text/plain": [
       "numpy.ndarray"
      ]
     },
     "execution_count": 6,
     "metadata": {},
     "output_type": "execute_result"
    }
   ],
   "source": [
    "type(img)"
   ]
  },
  {
   "cell_type": "code",
   "execution_count": 7,
   "metadata": {},
   "outputs": [
    {
     "name": "stdout",
     "output_type": "stream",
     "text": [
      "255\n",
      "0\n"
     ]
    }
   ],
   "source": [
    "print(img.max())\n",
    "print(img.min())"
   ]
  },
  {
   "cell_type": "markdown",
   "metadata": {},
   "source": [
    "## Display Color image using cv2.imshow()"
   ]
  },
  {
   "cell_type": "code",
   "execution_count": 8,
   "metadata": {},
   "outputs": [],
   "source": [
    "# Display Color image using cv2.imshow()\n",
    "cv2.imshow('Girl',img)\n",
    "\n",
    "#wait to close window\n",
    "cv2.waitKey(0)\n",
    "\n",
    "#close all windows\n",
    "cv2.destroyAllWindows()"
   ]
  },
  {
   "cell_type": "markdown",
   "metadata": {},
   "source": [
    "### Reading an image using cv2.imread() with flag cv2.IMREAD_GRAYSCALE"
   ]
  },
  {
   "cell_type": "code",
   "execution_count": 9,
   "metadata": {},
   "outputs": [],
   "source": [
    "# Read the given image\n",
    "img1=cv2.imread('22.jpg',cv2.IMREAD_GRAYSCALE)\n",
    "# OR\n",
    "# img=cv2.imread('22.jpg',0)"
   ]
  },
  {
   "cell_type": "code",
   "execution_count": 10,
   "metadata": {},
   "outputs": [
    {
     "data": {
      "text/plain": [
       "(704, 564)"
      ]
     },
     "execution_count": 10,
     "metadata": {},
     "output_type": "execute_result"
    }
   ],
   "source": [
    "img1.shape"
   ]
  },
  {
   "cell_type": "code",
   "execution_count": 11,
   "metadata": {},
   "outputs": [
    {
     "name": "stdout",
     "output_type": "stream",
     "text": [
      "[[153 177 162 ... 102 103 102]\n",
      " [147 179 166 ... 102 104 103]\n",
      " [142 180 165 ... 103 104 104]\n",
      " ...\n",
      " [172 174 163 ...  71  72  73]\n",
      " [176 168 161 ...  74  75  76]\n",
      " [182 159 147 ...  76  77  78]]\n"
     ]
    }
   ],
   "source": [
    "print(img1)"
   ]
  },
  {
   "cell_type": "code",
   "execution_count": 12,
   "metadata": {},
   "outputs": [
    {
     "data": {
      "text/plain": [
       "397056"
      ]
     },
     "execution_count": 12,
     "metadata": {},
     "output_type": "execute_result"
    }
   ],
   "source": [
    "img1.size"
   ]
  },
  {
   "cell_type": "code",
   "execution_count": 13,
   "metadata": {},
   "outputs": [
    {
     "data": {
      "text/plain": [
       "numpy.ndarray"
      ]
     },
     "execution_count": 13,
     "metadata": {},
     "output_type": "execute_result"
    }
   ],
   "source": [
    "type(img1)"
   ]
  },
  {
   "cell_type": "markdown",
   "metadata": {},
   "source": [
    "## Display this gray scale image"
   ]
  },
  {
   "cell_type": "code",
   "execution_count": 14,
   "metadata": {},
   "outputs": [],
   "source": [
    "cv2.imshow('Girl_Gray',img1)\n",
    "cv2.waitKey(0)\n",
    "cv2.destroyAllWindows()"
   ]
  },
  {
   "cell_type": "markdown",
   "metadata": {},
   "source": [
    "## Let's take a closer look at how images are stored"
   ]
  },
  {
   "cell_type": "code",
   "execution_count": 15,
   "metadata": {},
   "outputs": [
    {
     "name": "stdout",
     "output_type": "stream",
     "text": [
      "(704, 564, 3)\n"
     ]
    }
   ],
   "source": [
    "# Check Shape of Image\n",
    "# first value is basically Height-704, second value is width-564 and third value is channels-3. \n",
    "# 3-means COLOR image RGB.\n",
    "# If image is black and white that time showing only 1 channels \n",
    "print(img.shape)"
   ]
  },
  {
   "cell_type": "code",
   "execution_count": 16,
   "metadata": {},
   "outputs": [
    {
     "name": "stdout",
     "output_type": "stream",
     "text": [
      "Height of the image:  704 pixels\n"
     ]
    }
   ],
   "source": [
    "# Let's print each dimension of the image\n",
    "print('Height of the image: ',img.shape[0],'pixels')  #Check Shape of Image index[0]"
   ]
  },
  {
   "cell_type": "code",
   "execution_count": 17,
   "metadata": {},
   "outputs": [
    {
     "name": "stdout",
     "output_type": "stream",
     "text": [
      "Width of the image:  564 pixels\n"
     ]
    }
   ],
   "source": [
    "img.shape[1]  #Check Shape of Image index[1]\n",
    "print('Width of the image: ',img.shape[1],'pixels')  #Check Shape of Image index[1]"
   ]
  },
  {
   "cell_type": "code",
   "execution_count": 18,
   "metadata": {},
   "outputs": [
    {
     "name": "stdout",
     "output_type": "stream",
     "text": [
      "Channels of the image:  3 Channels\n"
     ]
    }
   ],
   "source": [
    "print('Channels of the image: ',img.shape[2],'Channels')  #Check channel of Image index[2]"
   ]
  },
  {
   "cell_type": "markdown",
   "metadata": {},
   "source": [
    "## Saving or Writing image: cv2.imwrite()"
   ]
  },
  {
   "cell_type": "code",
   "execution_count": 19,
   "metadata": {},
   "outputs": [
    {
     "data": {
      "text/plain": [
       "True"
      ]
     },
     "execution_count": 19,
     "metadata": {},
     "output_type": "execute_result"
    }
   ],
   "source": [
    "# Simply use 'imwrite' specificing the file name and the image to be saved\n",
    "cv2.imwrite('output.jpg',img)  # Save image in current location"
   ]
  },
  {
   "cell_type": "markdown",
   "metadata": {},
   "source": [
    "## Resize Image"
   ]
  },
  {
   "cell_type": "code",
   "execution_count": 20,
   "metadata": {},
   "outputs": [],
   "source": [
    "# Read the given image\n",
    "img=cv2.imread('27.jpg')"
   ]
  },
  {
   "cell_type": "code",
   "execution_count": 21,
   "metadata": {},
   "outputs": [],
   "source": [
    "# Resize Image\n",
    "img=cv2.resize(img,(1080,720))\n",
    "\n",
    "#show Image\n",
    "cv2.imshow('Car',img)\n",
    "\n",
    "#wait to close window\n",
    "cv2.waitKey(0)\n",
    "\n",
    "#close all windows\n",
    "cv2.destroyAllWindows()"
   ]
  },
  {
   "cell_type": "markdown",
   "metadata": {},
   "source": [
    "## Image Frame"
   ]
  },
  {
   "cell_type": "code",
   "execution_count": 22,
   "metadata": {},
   "outputs": [],
   "source": [
    "# Read the given image\n",
    "img=cv2.imread('24.jpg')"
   ]
  },
  {
   "cell_type": "code",
   "execution_count": 23,
   "metadata": {},
   "outputs": [],
   "source": [
    "# Resize Image\n",
    "img=cv2.resize(img,(200,200))\n",
    "\n",
    "# Adding images horizontally and Vertically\n",
    "img2=np.hstack((img,img,img,img,)) # Same image add 4 times horizontally\n",
    "\n",
    "img4=np.vstack((img2,img2,img2)) # horizontaly image add 3 times Vertically\n",
    "\n",
    "cv2.imshow('Cute_Girl',img4) # Show images\n",
    "\n",
    "cv2.waitKey(0) #wait to close window\n",
    "\n",
    "cv2.destroyAllWindows() #close all windows"
   ]
  },
  {
   "cell_type": "markdown",
   "metadata": {},
   "source": [
    "# Thank You!"
   ]
  }
 ],
 "metadata": {
  "kernelspec": {
   "display_name": "Python 3",
   "language": "python",
   "name": "python3"
  },
  "language_info": {
   "codemirror_mode": {
    "name": "ipython",
    "version": 3
   },
   "file_extension": ".py",
   "mimetype": "text/x-python",
   "name": "python",
   "nbconvert_exporter": "python",
   "pygments_lexer": "ipython3",
   "version": "3.8.5"
  }
 },
 "nbformat": 4,
 "nbformat_minor": 4
}
